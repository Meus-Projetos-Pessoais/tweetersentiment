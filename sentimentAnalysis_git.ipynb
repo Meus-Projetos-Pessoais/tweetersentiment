{
 "cells": [
  {
   "cell_type": "code",
   "execution_count": 1,
   "metadata": {},
   "outputs": [],
   "source": [
    "#referência\n",
    "# https://github.com/llSourcell/twitter_sentiment_challenge\n",
    "\n",
    "import tweepy\n",
    "from textblob import TextBlob\n",
    "import pandas as pd\n",
    "import numpy as np\n",
    "import csv"
   ]
  },
  {
   "cell_type": "code",
   "execution_count": 2,
   "metadata": {},
   "outputs": [],
   "source": [
    "# Step 1 - Authenticate\n",
    "consumer_key= 'HS80eyaFqpCRVoRPM9XamL3Z0'\n",
    "consumer_secret= 'pA7ZZ2dqJ7km7W1n2fv8jhM6pZUjiGJRDvv4SJtBkvzso6Yqi2'\n",
    "\n",
    "access_token='80844534-9Lc223LdtkvdLHT22z73C9rIf60N21WdwczHU2TFB'\n",
    "access_token_secret='bOjGH3j9ZwNk7GYqltzZo6pGCY2PycjPo8X9ojY5IJVe1'\n",
    "\n"
   ]
  },
  {
   "cell_type": "code",
   "execution_count": 3,
   "metadata": {},
   "outputs": [],
   "source": [
    "#step 2 authenticating\n",
    "auth = tweepy.OAuthHandler(consumer_key, consumer_secret)\n",
    "auth.set_access_token(access_token, access_token_secret)\n",
    "\n",
    "api = tweepy.API(auth)\n",
    "\n"
   ]
  },
  {
   "cell_type": "code",
   "execution_count": 5,
   "metadata": {},
   "outputs": [
    {
     "name": "stdout",
     "output_type": "stream",
     "text": [
      "BBC News - #Panama hotel removes #Trump branding after court battle https://t.co/gtUuM24YJU\n",
      "Sentiment(polarity=0.0, subjectivity=0.0)\n",
      "@SenWarren @realDonaldTrump Maybe yourself and the rest of the swamp should have negotiated with the President. \n",
      "He… https://t.co/TbmWyexzQU\n",
      "Sentiment(polarity=0.0, subjectivity=0.0)\n",
      "RT @TarotDarrow: Since the sentencing of #KellyAnneConway for violating the #HatchAct is up to her boss, #Trump, let your imagination run w…\n",
      "Sentiment(polarity=0.0, subjectivity=0.0)\n",
      "Gotta love spongebob! #Trump #lol #meme #funnycauseitstrue https://t.co/G5gQHe7Z49 https://t.co/UcT15218o5\n",
      "Sentiment(polarity=0.7125, subjectivity=0.6499999999999999)\n",
      "RT @The_UnSilent_: BREAKING: Footage of Sam Nunberg trying to run away from Robert Mueller. \n",
      "\n",
      "#Nunberg #MuellerTime #Trump https://t.co/8Wz…\n",
      "Sentiment(polarity=0.0, subjectivity=0.0)\n",
      "Only 5 ? Goodness. #trump #USA #brexit https://t.co/Y34wQh4mLa\n",
      "Sentiment(polarity=0.0, subjectivity=1.0)\n",
      "RT @kwilli1046: Sarah #Huckabee On #DACA - It Is Absolutely Terrible That Congress Has Failed To Act. President #Trump Gave Them Six Months…\n",
      "Sentiment(polarity=-0.75, subjectivity=0.65)\n",
      "@JerryR5 @grm_chikn @bj_erngren @RepAdamSchiff @Craken_MacCraic .Only thing missing from that picture is piles of m… https://t.co/xxpyfykqJs\n",
      "Sentiment(polarity=-0.2, subjectivity=0.05)\n",
      "RT @Njeanous: Or the #Sanctions that #Obama left that #Trump declines to sign?\n",
      "Sentiment(polarity=0.0, subjectivity=0.0)\n",
      "I Voted for #Trump Endorsed Candidates \n",
      "-I support the NRA because you want to punish me for a crime I didn't commi… https://t.co/On7HPAssQe\n",
      "Sentiment(polarity=0.0, subjectivity=0.0)\n",
      "RT @FMoniteau: GW Bush voters versus Trump voters\n",
      "\n",
      "#TuesdayThoughts #TheResistance #MAGA #Trump #FoxNews #Resist #ImpeachTrump https://t.co…\n",
      "Sentiment(polarity=0.0, subjectivity=0.0)\n",
      "RT @Europhobe: #Trump n'est pas le seul adepte du nationalisme économique. Il y a aussi #XiJinping et... #Merkel ! Les européistes comme #M…\n",
      "Sentiment(polarity=0.0, subjectivity=0.0)\n",
      "Russia suspected of using 'dumb' bombs to shift blame for Syria war crimes #Trump #usa #theresistance #TrumpRussia… https://t.co/3ZTVzemWIo\n",
      "Sentiment(polarity=-0.375, subjectivity=0.5)\n",
      "@thehill Says the guy who destabilized the entire Middle East? Yea.....ok #Democrats #Liberals #LiberalLogic… https://t.co/qtoQFYSYgK\n",
      "Sentiment(polarity=0.0, subjectivity=0.3125)\n",
      "\n"
     ]
    }
   ],
   "source": [
    "#Step 3 - Retrieve Tweets\n",
    "public_tweets = api.search('#trump')\n",
    "\n",
    "\n",
    "\n",
    "#CHALLENGE - Instead of printing out each tweet, save each Tweet to a CSV file\n",
    "#and label each one as either 'positive' or 'negative', depending on the sentiment \n",
    "#You can decide the sentiment polarity threshold yourself\n",
    "\n",
    "\n",
    "for tweet in public_tweets:\n",
    "    print(tweet.text)\n",
    "    #print(public_tweets)\n",
    "    #Step 4 Perform Sentiment Analysis on Tweets\n",
    "    analysis = TextBlob(tweet.text)\n",
    "    print(analysis.sentiment)\n",
    "    df = pd.DataFrame([[tweet.id,tweet.text, analysis.sentiment,tweet.metadata['iso_language_code']]], \n",
    "        columns = ['ID','Tweet', 'Sentimento','Linguagem']\n",
    "    \n",
    "    )\n",
    "    \n",
    "\n",
    "print(\"\")"
   ]
  },
  {
   "cell_type": "code",
   "execution_count": 10,
   "metadata": {},
   "outputs": [
    {
     "data": {
      "text/html": [
       "<div>\n",
       "<style scoped>\n",
       "    .dataframe tbody tr th:only-of-type {\n",
       "        vertical-align: middle;\n",
       "    }\n",
       "\n",
       "    .dataframe tbody tr th {\n",
       "        vertical-align: top;\n",
       "    }\n",
       "\n",
       "    .dataframe thead th {\n",
       "        text-align: right;\n",
       "    }\n",
       "</style>\n",
       "<table border=\"1\" class=\"dataframe\">\n",
       "  <thead>\n",
       "    <tr style=\"text-align: right;\">\n",
       "      <th></th>\n",
       "      <th>ID</th>\n",
       "      <th>Tweet</th>\n",
       "      <th>Sentimento</th>\n",
       "      <th>Linguagem</th>\n",
       "    </tr>\n",
       "  </thead>\n",
       "  <tbody>\n",
       "    <tr>\n",
       "      <th>0</th>\n",
       "      <td>971074491492290562</td>\n",
       "      <td>@thehill Says the guy who destabilized the ent...</td>\n",
       "      <td>(0.0, 0.3125)</td>\n",
       "      <td>en</td>\n",
       "    </tr>\n",
       "  </tbody>\n",
       "</table>\n",
       "</div>"
      ],
      "text/plain": [
       "                   ID                                              Tweet  \\\n",
       "0  971074491492290562  @thehill Says the guy who destabilized the ent...   \n",
       "\n",
       "      Sentimento Linguagem  \n",
       "0  (0.0, 0.3125)        en  "
      ]
     },
     "execution_count": 10,
     "metadata": {},
     "output_type": "execute_result"
    }
   ],
   "source": [
    "df"
   ]
  },
  {
   "cell_type": "code",
   "execution_count": 134,
   "metadata": {},
   "outputs": [],
   "source": [
    "creatingCsv =pd.DataFrame.to_csv(df,sep=',',  header=True, index=True, \n",
    "                            mode='w', path_or_buf='tweepy_textblob_sentiments_analysis.csv')"
   ]
  }
 ],
 "metadata": {
  "kernelspec": {
   "display_name": "Python 3",
   "language": "python",
   "name": "python3"
  },
  "language_info": {
   "codemirror_mode": {
    "name": "ipython",
    "version": 3
   },
   "file_extension": ".py",
   "mimetype": "text/x-python",
   "name": "python",
   "nbconvert_exporter": "python",
   "pygments_lexer": "ipython3",
   "version": "3.6.3"
  }
 },
 "nbformat": 4,
 "nbformat_minor": 2
}
