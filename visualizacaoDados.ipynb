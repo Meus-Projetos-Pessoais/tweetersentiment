{
 "cells": [
  {
   "cell_type": "code",
   "execution_count": 18,
   "metadata": {},
   "outputs": [],
   "source": [
    "#processamento de dados\n",
    "import nltk\n",
    "from nltk import wordpunct_tokenize\n",
    "from nltk.corpus import stopwords\n",
    "import re\n",
    "\n",
    "#manipulação de dados\n",
    "import pandas as pd\n",
    "import numpy as np\n",
    "\n",
    "#visualização de dados\n",
    "import seaborn as sns\n",
    "import matplotlib.pyplot as plt\n",
    "%matplotlib inline"
   ]
  },
  {
   "cell_type": "code",
   "execution_count": 19,
   "metadata": {},
   "outputs": [],
   "source": [
    "#importando os dados para analise\n",
    "\n",
    "df =  pd.read_csv('/resources/Scraping/scripts/csv/coletaDadosLula.csv', sep=',')"
   ]
  },
  {
   "cell_type": "code",
   "execution_count": 20,
   "metadata": {},
   "outputs": [
    {
     "data": {
      "text/html": [
       "<div>\n",
       "<style scoped>\n",
       "    .dataframe tbody tr th:only-of-type {\n",
       "        vertical-align: middle;\n",
       "    }\n",
       "\n",
       "    .dataframe tbody tr th {\n",
       "        vertical-align: top;\n",
       "    }\n",
       "\n",
       "    .dataframe thead th {\n",
       "        text-align: right;\n",
       "    }\n",
       "</style>\n",
       "<table border=\"1\" class=\"dataframe\">\n",
       "  <thead>\n",
       "    <tr style=\"text-align: right;\">\n",
       "      <th></th>\n",
       "      <th>Unnamed: 0</th>\n",
       "      <th>ID</th>\n",
       "      <th>user</th>\n",
       "      <th>Nome</th>\n",
       "      <th>Perfil</th>\n",
       "      <th>Localização</th>\n",
       "      <th>Tweet</th>\n",
       "      <th>Seguidores</th>\n",
       "      <th>Linguagem</th>\n",
       "      <th>Descrição</th>\n",
       "      <th>Criado</th>\n",
       "    </tr>\n",
       "  </thead>\n",
       "  <tbody>\n",
       "    <tr>\n",
       "      <th>0</th>\n",
       "      <td>0.0</td>\n",
       "      <td>978425480268349440</td>\n",
       "      <td>AcordouAcordou</td>\n",
       "      <td>O_MECANISMO™</td>\n",
       "      <td>NaN</td>\n",
       "      <td>Por aí</td>\n",
       "      <td>RT @HyanGontijo: \"Passo Fundo - RS não deixou ...</td>\n",
       "      <td>22569</td>\n",
       "      <td>pt</td>\n",
       "      <td>Importuna Razão, não me persigas;\\nCesse a rís...</td>\n",
       "      <td>Tue Jun 18 12:55:10 +0000 2013</td>\n",
       "    </tr>\n",
       "    <tr>\n",
       "      <th>1</th>\n",
       "      <td>1.0</td>\n",
       "      <td>978424914498768897</td>\n",
       "      <td>PETERROGERHQ</td>\n",
       "      <td>PETER ROGER HQ</td>\n",
       "      <td>http://t.co/iNterdJlmO</td>\n",
       "      <td>Joinville/SC (Brasil)</td>\n",
       "      <td>Para ingressar nessa #seita tu tens que #beija...</td>\n",
       "      <td>165</td>\n",
       "      <td>pt</td>\n",
       "      <td>HQ - ILUSTRAÇÕES - CRIAÇÃO</td>\n",
       "      <td>Thu Apr 09 13:17:41 +0000 2009</td>\n",
       "    </tr>\n",
       "    <tr>\n",
       "      <th>2</th>\n",
       "      <td>2.0</td>\n",
       "      <td>978424667844194304</td>\n",
       "      <td>Portalcwb</td>\n",
       "      <td>Portal Cwb</td>\n",
       "      <td>http://t.co/2O0sjgTlPE</td>\n",
       "      <td>Curitiba - Paraná - Brasil</td>\n",
       "      <td>#Dilma denuncia #agressões em #caravana de #Lu...</td>\n",
       "      <td>1375</td>\n",
       "      <td>pt</td>\n",
       "      <td>Portal de noticias.</td>\n",
       "      <td>Mon Oct 25 02:37:40 +0000 2010</td>\n",
       "    </tr>\n",
       "    <tr>\n",
       "      <th>3</th>\n",
       "      <td>3.0</td>\n",
       "      <td>978424602648031235</td>\n",
       "      <td>AyurvedaPoa</td>\n",
       "      <td>#SomosTodosMoro!</td>\n",
       "      <td>NaN</td>\n",
       "      <td>Porto Alegre - RS - Brasil</td>\n",
       "      <td>RT @HyanGontijo: \"Passo Fundo - RS não deixou ...</td>\n",
       "      <td>1265</td>\n",
       "      <td>pt</td>\n",
       "      <td>NaN</td>\n",
       "      <td>Sun Dec 29 20:51:42 +0000 2013</td>\n",
       "    </tr>\n",
       "    <tr>\n",
       "      <th>4</th>\n",
       "      <td>4.0</td>\n",
       "      <td>978424229367549953</td>\n",
       "      <td>IranildaCanto</td>\n",
       "      <td>Iranilda Canto</td>\n",
       "      <td>NaN</td>\n",
       "      <td>NaN</td>\n",
       "      <td>RT @PersonalEscrito: Ataque fascista de milici...</td>\n",
       "      <td>50</td>\n",
       "      <td>pt</td>\n",
       "      <td>Participo sendo um mistério no planeta!</td>\n",
       "      <td>Wed Dec 08 19:13:05 +0000 2010</td>\n",
       "    </tr>\n",
       "  </tbody>\n",
       "</table>\n",
       "</div>"
      ],
      "text/plain": [
       "   Unnamed: 0                  ID            user              Nome  \\\n",
       "0         0.0  978425480268349440  AcordouAcordou      O_MECANISMO™   \n",
       "1         1.0  978424914498768897    PETERROGERHQ    PETER ROGER HQ   \n",
       "2         2.0  978424667844194304       Portalcwb        Portal Cwb   \n",
       "3         3.0  978424602648031235     AyurvedaPoa  #SomosTodosMoro!   \n",
       "4         4.0  978424229367549953   IranildaCanto    Iranilda Canto   \n",
       "\n",
       "                   Perfil                 Localização  \\\n",
       "0                     NaN                      Por aí   \n",
       "1  http://t.co/iNterdJlmO       Joinville/SC (Brasil)   \n",
       "2  http://t.co/2O0sjgTlPE  Curitiba - Paraná - Brasil   \n",
       "3                     NaN  Porto Alegre - RS - Brasil   \n",
       "4                     NaN                         NaN   \n",
       "\n",
       "                                               Tweet Seguidores Linguagem  \\\n",
       "0  RT @HyanGontijo: \"Passo Fundo - RS não deixou ...      22569        pt   \n",
       "1  Para ingressar nessa #seita tu tens que #beija...        165        pt   \n",
       "2  #Dilma denuncia #agressões em #caravana de #Lu...       1375        pt   \n",
       "3  RT @HyanGontijo: \"Passo Fundo - RS não deixou ...       1265        pt   \n",
       "4  RT @PersonalEscrito: Ataque fascista de milici...         50        pt   \n",
       "\n",
       "                                           Descrição  \\\n",
       "0  Importuna Razão, não me persigas;\\nCesse a rís...   \n",
       "1                         HQ - ILUSTRAÇÕES - CRIAÇÃO   \n",
       "2                                Portal de noticias.   \n",
       "3                                                NaN   \n",
       "4            Participo sendo um mistério no planeta!   \n",
       "\n",
       "                           Criado  \n",
       "0  Tue Jun 18 12:55:10 +0000 2013  \n",
       "1  Thu Apr 09 13:17:41 +0000 2009  \n",
       "2  Mon Oct 25 02:37:40 +0000 2010  \n",
       "3  Sun Dec 29 20:51:42 +0000 2013  \n",
       "4  Wed Dec 08 19:13:05 +0000 2010  "
      ]
     },
     "execution_count": 20,
     "metadata": {},
     "output_type": "execute_result"
    }
   ],
   "source": [
    "#verificando os dados\n",
    "df.head()"
   ]
  },
  {
   "cell_type": "code",
   "execution_count": 21,
   "metadata": {},
   "outputs": [
    {
     "data": {
      "image/png": "[encoded data removed]",
      "text/plain": [
       "<Figure size 432x288 with 1 Axes>"
      ]
     },
     "metadata": {},
     "output_type": "display_data"
    }
   ],
   "source": [
    "grafico =  sns.countplot(data = df, x='Linguagem', hue='Linguagem')"
   ]
  },
  {
   "cell_type": "code",
   "execution_count": 22,
   "metadata": {},
   "outputs": [
    {
     "data": {
      "text/plain": [
       "Unnamed: 0     42\n",
       "ID             42\n",
       "user           42\n",
       "Nome           42\n",
       "Perfil         42\n",
       "Localização    42\n",
       "Tweet          42\n",
       "Seguidores     42\n",
       "Linguagem      42\n",
       "Descrição      42\n",
       "Criado         42\n",
       "dtype: int64"
      ]
     },
     "execution_count": 22,
     "metadata": {},
     "output_type": "execute_result"
    }
   ],
   "source": [
    "df[df['Localização'] == 'Curitiba - Paraná - Brasil'].count()"
   ]
  },
  {
   "cell_type": "code",
   "execution_count": 23,
   "metadata": {},
   "outputs": [],
   "source": [
    "tete = df[df['Linguagem'] == 'it']"
   ]
  },
  {
   "cell_type": "code",
   "execution_count": 24,
   "metadata": {},
   "outputs": [
    {
     "data": {
      "text/html": [
       "<div>\n",
       "<style scoped>\n",
       "    .dataframe tbody tr th:only-of-type {\n",
       "        vertical-align: middle;\n",
       "    }\n",
       "\n",
       "    .dataframe tbody tr th {\n",
       "        vertical-align: top;\n",
       "    }\n",
       "\n",
       "    .dataframe thead th {\n",
       "        text-align: right;\n",
       "    }\n",
       "</style>\n",
       "<table border=\"1\" class=\"dataframe\">\n",
       "  <thead>\n",
       "    <tr style=\"text-align: right;\">\n",
       "      <th></th>\n",
       "      <th>Unnamed: 0</th>\n",
       "      <th>ID</th>\n",
       "      <th>user</th>\n",
       "      <th>Nome</th>\n",
       "      <th>Perfil</th>\n",
       "      <th>Localização</th>\n",
       "      <th>Tweet</th>\n",
       "      <th>Seguidores</th>\n",
       "      <th>Linguagem</th>\n",
       "      <th>Descrição</th>\n",
       "      <th>Criado</th>\n",
       "    </tr>\n",
       "  </thead>\n",
       "  <tbody>\n",
       "    <tr>\n",
       "      <th>4204</th>\n",
       "      <td>5.0</td>\n",
       "      <td>978436088149757952</td>\n",
       "      <td>SoraiaGebhard</td>\n",
       "      <td>Soraia Gebhard</td>\n",
       "      <td>https://t.co/BjVzPIP3Oq</td>\n",
       "      <td>Svizzera</td>\n",
       "      <td>RT @otavio_loopes: Foi NEGADO os embargos de d...</td>\n",
       "      <td>13226</td>\n",
       "      <td>it</td>\n",
       "      <td>Dedicado a política e justiça. Sem vínculo par...</td>\n",
       "      <td>Mon May 30 00:58:49 +0000 2016</td>\n",
       "    </tr>\n",
       "    <tr>\n",
       "      <th>5841</th>\n",
       "      <td>243.0</td>\n",
       "      <td>978436088149757952</td>\n",
       "      <td>SoraiaGebhard</td>\n",
       "      <td>Soraia Gebhard</td>\n",
       "      <td>https://t.co/BjVzPIP3Oq</td>\n",
       "      <td>Svizzera</td>\n",
       "      <td>RT @otavio_loopes: Foi NEGADO os embargos de d...</td>\n",
       "      <td>13245</td>\n",
       "      <td>it</td>\n",
       "      <td>Dedicado a política e justiça. Sem vínculo par...</td>\n",
       "      <td>Mon May 30 00:58:49 +0000 2016</td>\n",
       "    </tr>\n",
       "  </tbody>\n",
       "</table>\n",
       "</div>"
      ],
      "text/plain": [
       "      Unnamed: 0                  ID           user            Nome  \\\n",
       "4204         5.0  978436088149757952  SoraiaGebhard  Soraia Gebhard   \n",
       "5841       243.0  978436088149757952  SoraiaGebhard  Soraia Gebhard   \n",
       "\n",
       "                       Perfil Localização  \\\n",
       "4204  https://t.co/BjVzPIP3Oq    Svizzera   \n",
       "5841  https://t.co/BjVzPIP3Oq    Svizzera   \n",
       "\n",
       "                                                  Tweet Seguidores Linguagem  \\\n",
       "4204  RT @otavio_loopes: Foi NEGADO os embargos de d...      13226        it   \n",
       "5841  RT @otavio_loopes: Foi NEGADO os embargos de d...      13245        it   \n",
       "\n",
       "                                              Descrição  \\\n",
       "4204  Dedicado a política e justiça. Sem vínculo par...   \n",
       "5841  Dedicado a política e justiça. Sem vínculo par...   \n",
       "\n",
       "                              Criado  \n",
       "4204  Mon May 30 00:58:49 +0000 2016  \n",
       "5841  Mon May 30 00:58:49 +0000 2016  "
      ]
     },
     "execution_count": 24,
     "metadata": {},
     "output_type": "execute_result"
    }
   ],
   "source": [
    "tete.head()"
   ]
  },
  {
   "cell_type": "code",
   "execution_count": 25,
   "metadata": {},
   "outputs": [
    {
     "data": {
      "text/html": [
       "<div>\n",
       "<style scoped>\n",
       "    .dataframe tbody tr th:only-of-type {\n",
       "        vertical-align: middle;\n",
       "    }\n",
       "\n",
       "    .dataframe tbody tr th {\n",
       "        vertical-align: top;\n",
       "    }\n",
       "\n",
       "    .dataframe thead th {\n",
       "        text-align: right;\n",
       "    }\n",
       "</style>\n",
       "<table border=\"1\" class=\"dataframe\">\n",
       "  <thead>\n",
       "    <tr style=\"text-align: right;\">\n",
       "      <th></th>\n",
       "      <th>Unnamed: 0</th>\n",
       "    </tr>\n",
       "  </thead>\n",
       "  <tbody>\n",
       "    <tr>\n",
       "      <th>count</th>\n",
       "      <td>7263.000000</td>\n",
       "    </tr>\n",
       "    <tr>\n",
       "      <th>mean</th>\n",
       "      <td>729.829822</td>\n",
       "    </tr>\n",
       "    <tr>\n",
       "      <th>std</th>\n",
       "      <td>426.773612</td>\n",
       "    </tr>\n",
       "    <tr>\n",
       "      <th>min</th>\n",
       "      <td>0.000000</td>\n",
       "    </tr>\n",
       "    <tr>\n",
       "      <th>25%</th>\n",
       "      <td>363.000000</td>\n",
       "    </tr>\n",
       "    <tr>\n",
       "      <th>50%</th>\n",
       "      <td>726.000000</td>\n",
       "    </tr>\n",
       "    <tr>\n",
       "      <th>75%</th>\n",
       "      <td>1089.000000</td>\n",
       "    </tr>\n",
       "    <tr>\n",
       "      <th>max</th>\n",
       "      <td>1668.000000</td>\n",
       "    </tr>\n",
       "  </tbody>\n",
       "</table>\n",
       "</div>"
      ],
      "text/plain": [
       "        Unnamed: 0\n",
       "count  7263.000000\n",
       "mean    729.829822\n",
       "std     426.773612\n",
       "min       0.000000\n",
       "25%     363.000000\n",
       "50%     726.000000\n",
       "75%    1089.000000\n",
       "max    1668.000000"
      ]
     },
     "execution_count": 25,
     "metadata": {},
     "output_type": "execute_result"
    }
   ],
   "source": [
    "df.describe()"
   ]
  },
  {
   "cell_type": "code",
   "execution_count": 26,
   "metadata": {},
   "outputs": [
    {
     "data": {
      "text/plain": [
       "Unnamed: 0     float64\n",
       "ID              object\n",
       "user            object\n",
       "Nome            object\n",
       "Perfil          object\n",
       "Localização     object\n",
       "Tweet           object\n",
       "Seguidores      object\n",
       "Linguagem       object\n",
       "Descrição       object\n",
       "Criado          object\n",
       "dtype: object"
      ]
     },
     "execution_count": 26,
     "metadata": {},
     "output_type": "execute_result"
    }
   ],
   "source": [
    "df.dtypes"
   ]
  },
  {
   "cell_type": "code",
   "execution_count": 27,
   "metadata": {},
   "outputs": [],
   "source": [
    "buscando = df[df['Localização'] =='Svizzera']"
   ]
  },
  {
   "cell_type": "code",
   "execution_count": 28,
   "metadata": {},
   "outputs": [
    {
     "data": {
      "text/html": [
       "<div>\n",
       "<style scoped>\n",
       "    .dataframe tbody tr th:only-of-type {\n",
       "        vertical-align: middle;\n",
       "    }\n",
       "\n",
       "    .dataframe tbody tr th {\n",
       "        vertical-align: top;\n",
       "    }\n",
       "\n",
       "    .dataframe thead th {\n",
       "        text-align: right;\n",
       "    }\n",
       "</style>\n",
       "<table border=\"1\" class=\"dataframe\">\n",
       "  <thead>\n",
       "    <tr style=\"text-align: right;\">\n",
       "      <th></th>\n",
       "      <th>Unnamed: 0</th>\n",
       "      <th>ID</th>\n",
       "      <th>user</th>\n",
       "      <th>Nome</th>\n",
       "      <th>Perfil</th>\n",
       "      <th>Localização</th>\n",
       "      <th>Tweet</th>\n",
       "      <th>Seguidores</th>\n",
       "      <th>Linguagem</th>\n",
       "      <th>Descrição</th>\n",
       "      <th>Criado</th>\n",
       "    </tr>\n",
       "  </thead>\n",
       "  <tbody>\n",
       "    <tr>\n",
       "      <th>4204</th>\n",
       "      <td>5.0</td>\n",
       "      <td>978436088149757952</td>\n",
       "      <td>SoraiaGebhard</td>\n",
       "      <td>Soraia Gebhard</td>\n",
       "      <td>https://t.co/BjVzPIP3Oq</td>\n",
       "      <td>Svizzera</td>\n",
       "      <td>RT @otavio_loopes: Foi NEGADO os embargos de d...</td>\n",
       "      <td>13226</td>\n",
       "      <td>it</td>\n",
       "      <td>Dedicado a política e justiça. Sem vínculo par...</td>\n",
       "      <td>Mon May 30 00:58:49 +0000 2016</td>\n",
       "    </tr>\n",
       "    <tr>\n",
       "      <th>5841</th>\n",
       "      <td>243.0</td>\n",
       "      <td>978436088149757952</td>\n",
       "      <td>SoraiaGebhard</td>\n",
       "      <td>Soraia Gebhard</td>\n",
       "      <td>https://t.co/BjVzPIP3Oq</td>\n",
       "      <td>Svizzera</td>\n",
       "      <td>RT @otavio_loopes: Foi NEGADO os embargos de d...</td>\n",
       "      <td>13245</td>\n",
       "      <td>it</td>\n",
       "      <td>Dedicado a política e justiça. Sem vínculo par...</td>\n",
       "      <td>Mon May 30 00:58:49 +0000 2016</td>\n",
       "    </tr>\n",
       "  </tbody>\n",
       "</table>\n",
       "</div>"
      ],
      "text/plain": [
       "      Unnamed: 0                  ID           user            Nome  \\\n",
       "4204         5.0  978436088149757952  SoraiaGebhard  Soraia Gebhard   \n",
       "5841       243.0  978436088149757952  SoraiaGebhard  Soraia Gebhard   \n",
       "\n",
       "                       Perfil Localização  \\\n",
       "4204  https://t.co/BjVzPIP3Oq    Svizzera   \n",
       "5841  https://t.co/BjVzPIP3Oq    Svizzera   \n",
       "\n",
       "                                                  Tweet Seguidores Linguagem  \\\n",
       "4204  RT @otavio_loopes: Foi NEGADO os embargos de d...      13226        it   \n",
       "5841  RT @otavio_loopes: Foi NEGADO os embargos de d...      13245        it   \n",
       "\n",
       "                                              Descrição  \\\n",
       "4204  Dedicado a política e justiça. Sem vínculo par...   \n",
       "5841  Dedicado a política e justiça. Sem vínculo par...   \n",
       "\n",
       "                              Criado  \n",
       "4204  Mon May 30 00:58:49 +0000 2016  \n",
       "5841  Mon May 30 00:58:49 +0000 2016  "
      ]
     },
     "execution_count": 28,
     "metadata": {},
     "output_type": "execute_result"
    }
   ],
   "source": [
    "buscando"
   ]
  },
  {
   "cell_type": "code",
   "execution_count": 48,
   "metadata": {},
   "outputs": [
    {
     "data": {
      "text/plain": [
       "7267"
      ]
     },
     "execution_count": 48,
     "metadata": {},
     "output_type": "execute_result"
    }
   ],
   "source": [
    "#importando os tweets para limpeza\n",
    "tweet =  df['Tweet']\n",
    "tweet[0]\n",
    "tweet.count()"
   ]
  },
  {
   "cell_type": "code",
   "execution_count": 49,
   "metadata": {},
   "outputs": [
    {
     "data": {
      "text/plain": [
       "'RT  HyanGontijo   Passo Fundo   RS não deixou a comitiva de  Lula entrar na cidade  está indo para Chapecó   SC  Parabéns  Rio Grande do Su…'"
      ]
     },
     "execution_count": 49,
     "metadata": {},
     "output_type": "execute_result"
    }
   ],
   "source": [
    "re.sub(r'[@#-./?!,\":;()\\']',' ',tweet[0])"
   ]
  },
  {
   "cell_type": "code",
   "execution_count": 47,
   "metadata": {},
   "outputs": [
    {
     "ename": "SyntaxError",
     "evalue": "invalid syntax (<ipython-input-47-128cb0550d64>, line 3)",
     "output_type": "error",
     "traceback": [
      "\u001b[0;36m  File \u001b[0;32m\"<ipython-input-47-128cb0550d64>\"\u001b[0;36m, line \u001b[0;32m3\u001b[0m\n\u001b[0;31m    re.sub(r'[@#-./?!,\":;()\\']',' ',tweet[for tweet in tweet.count()])\u001b[0m\n\u001b[0m                                            ^\u001b[0m\n\u001b[0;31mSyntaxError\u001b[0m\u001b[0;31m:\u001b[0m invalid syntax\n"
     ]
    }
   ],
   "source": [
    "#limpando os dados\n",
    "#tweet =  t\n",
    "re.sub(r'[@#-./?!,\":;()\\']',' ',tweet[for tweet in tweet.count()])"
   ]
  },
  {
   "cell_type": "code",
   "execution_count": 50,
   "metadata": {},
   "outputs": [
    {
     "data": {
      "text/plain": [
       "'RT  HyanGontijo   Passo Fundo   RS não deixou a comitiva de  Lula entrar na cidade  está indo para Chapecó   SC  Parabéns  Rio Grande do Su…'"
      ]
     },
     "execution_count": 50,
     "metadata": {},
     "output_type": "execute_result"
    }
   ],
   "source": [
    "tweet[0]"
   ]
  }
 ],
 "metadata": {
  "kernelspec": {
   "display_name": "Python 3",
   "language": "python",
   "name": "python3"
  },
  "language_info": {
   "codemirror_mode": {
    "name": "ipython",
    "version": 3
   },
   "file_extension": ".py",
   "mimetype": "text/x-python",
   "name": "python",
   "nbconvert_exporter": "python",
   "pygments_lexer": "ipython3",
   "version": "3.6.4"
  }
 },
 "nbformat": 4,
 "nbformat_minor": 2
}
